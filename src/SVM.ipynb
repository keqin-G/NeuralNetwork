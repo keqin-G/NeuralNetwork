{
 "cells": [
  {
   "cell_type": "markdown",
   "id": "e1151942",
   "metadata": {},
   "source": [
    "# SVM支持向量机\n",
    "[](attachment:image.png)\n",
    "<img src=attachment:image.png width=300>\n",
    "\n",
    "在样本空间中寻找一个超平面\n",
    "$w^Tx+b=0$\n",
    "使得\n",
    "\n",
    "$w^Tx_i+b >= +1, y_i = +1$\n",
    "\n",
    "$w^Tx_i+b <= -1, y_i = -1$\n",
    "\n",
    "$\\gamma=\\frac{2} {||w||}$被称为间隔\n",
    "我们的目标是找到最大间隔\n",
    "\n",
    "即$\\mathop{max}\\limits_{w,b}\\frac{2} {||w||}$\n",
    "\n",
    "等价于$\\mathop{min}\\limits_{w,b} \\frac{1}{2}{||w||}^2$    (似乎机器学习中求最大值的问题都转化成了求最小值)\n",
    "\n",
    "使用拉格朗日乘数法求解\n",
    "$L(w, b, \\lambda) = \\frac{1}{2}{||w||}^2 + \\sum\\limits_{i=1}^{m}\\lambda_i\\left(1-y_i\\left(w^Tx_i + b\\right)\\right)$\n",
    "\n",
    "$\\frac{\\partial L}{\\partial w} = ||w|| + \\sum\\limits_{i=1}^m\\lambda_i(-y_ix_i) = 0$\n",
    "\n",
    "$\\frac{\\partial L}{\\partial b} = \\sum\\limits_{i=1}^m-\\lambda_iy_i = 0$\n",
    "\n",
    "解得\n",
    "\n",
    "$w = \\sum\\limits_{i=1}^{m}\\lambda_iy_ix_i$\n",
    "\n",
    "$0 = \\sum\\limits_{i=1}^m\\lambda_iy_i$\n",
    "\n",
    "带入原方程即得到\n",
    "\n",
    "$\\mathop{max}\\limits_{\\lambda} \\sum\\limits_{i=1}^m\\lambda_i - \\frac{1}{2}\\sum\\limits_{i=1}^{m}\\sum\\limits_{j=1}^m\\lambda_i\\lambda_jy_iy_j{x_i}^Tx_j$\n",
    "\n",
    "使用SMO算法求解$\\lambda_i$\n",
    "\n",
    "1.选出$\\lambda$中最不好的两个参数$\\lambda_i, \\lambda_j$\n",
    "\n",
    "2.只把$\\lambda_i, \\lambda_j$视作参数 其他的视作常数，求解$\\lambda_i, \\lambda_j$\n"
   ]
  },
  {
   "cell_type": "markdown",
   "id": "d83e193a",
   "metadata": {},
   "source": [
    "# 使用SVM实现mnist手写数字识别"
   ]
  },
  {
   "cell_type": "code",
   "execution_count": 1,
   "id": "6c9da703",
   "metadata": {},
   "outputs": [],
   "source": [
    "import numpy as np\n",
    "import pandas as pd\n",
    "from sklearn import svm\n",
    "from sklearn.datasets import load_digits\n",
    "from sklearn.model_selection import train_test_split"
   ]
  },
  {
   "cell_type": "markdown",
   "id": "9d0056a1",
   "metadata": {},
   "source": [
    "这里直接调用sklearn (不用框架的版本还没写好)"
   ]
  },
  {
   "cell_type": "code",
   "execution_count": 7,
   "id": "69ddfb64",
   "metadata": {},
   "outputs": [],
   "source": [
    "mnist = load_digits()\n",
    "x,test_x,y,test_y = train_test_split(mnist.data,mnist.target,test_size=0.25,random_state=40)"
   ]
  },
  {
   "cell_type": "code",
   "execution_count": 30,
   "id": "56250081",
   "metadata": {},
   "outputs": [],
   "source": [
    "def load_mnist():\n",
    "    train_data = pd.read_csv('../dataset/mnist/mnist_train.csv').values\n",
    "    test_data = pd.read_csv('../dataset/mnist/mnist_test.csv').values\n",
    "\n",
    "    train_images = train_data[:, 1:]\n",
    "    train_images = train_images / 255.0\n",
    "    train_labels_tmp = train_data[:, :1]\n",
    "    train_images = np.array([i.reshape(-1) for i in train_images])\n",
    "#     train_labels = np.zeros((len(train_labels_tmp), 10))\n",
    "#     for i in range(len(train_labels_tmp)):\n",
    "#         train_labels[i][train_labels_tmp[i]] = 1\n",
    "#     train_labels = np.array([i.reshape(-1, 1) for i in train_labels])\n",
    "    train_labels = train_labels_tmp\n",
    "\n",
    "    test_images = test_data[:, 1:]\n",
    "    test_images = test_images / 255.0\n",
    "    test_labels_tmp = test_data[:, :1]\n",
    "    test_images = np.array([i.reshape(-1) for i in test_images])\n",
    "#     test_labels = np.zeros((len(test_labels_tmp), 10))\n",
    "#     for i in range(len(test_labels_tmp)):\n",
    "#         test_labels[i][test_labels_tmp[i]] = 1\n",
    "#     test_labels = np.array([i.reshape(-1, 1) for i in test_labels])\n",
    "    test_labels = test_labels_tmp\n",
    "    return train_images, train_labels, test_images, test_labels\n",
    "\n",
    "X_train, y_train, X_test, y_test = load_mnist()"
   ]
  },
  {
   "cell_type": "code",
   "execution_count": 36,
   "id": "9fbd41e7",
   "metadata": {},
   "outputs": [
    {
     "name": "stdout",
     "output_type": "stream",
     "text": [
      "(60000, 784) (1347, 64)\n",
      "(60000,) (1347,)\n",
      "(10000, 784) (450, 64)\n"
     ]
    }
   ],
   "source": [
    "print(X_train.shape, x.shape)\n",
    "print(y_train.reshape(-1).shape, y.shape)\n",
    "\n",
    "print(X_test.shape, test_x.shape)"
   ]
  },
  {
   "cell_type": "code",
   "execution_count": 37,
   "id": "05e04f10",
   "metadata": {},
   "outputs": [
    {
     "name": "stderr",
     "output_type": "stream",
     "text": [
      "C:\\Users\\13526\\AppData\\Roaming\\Python\\Python37\\site-packages\\sklearn\\svm\\_base.py:1208: ConvergenceWarning: Liblinear failed to converge, increase the number of iterations.\n",
      "  ConvergenceWarning,\n"
     ]
    }
   ],
   "source": [
    "model = svm.LinearSVC()\n",
    "model.fit(X_train, y_train.reshape(-1))\n",
    "z = model.predict(X_test)"
   ]
  },
  {
   "cell_type": "markdown",
   "id": "2566c713",
   "metadata": {},
   "source": [
    "没收敛 问题不大"
   ]
  },
  {
   "cell_type": "code",
   "execution_count": 49,
   "id": "b70f1585",
   "metadata": {},
   "outputs": [
    {
     "name": "stdout",
     "output_type": "stream",
     "text": [
      "accuracy 0.9176\n"
     ]
    }
   ],
   "source": [
    "print(f'accuracy {np.sum(z == y_test.reshape(-1)) / z.size}')"
   ]
  },
  {
   "cell_type": "markdown",
   "id": "fea3de5e",
   "metadata": {},
   "source": [
    "还是来个手写数字"
   ]
  },
  {
   "cell_type": "code",
   "execution_count": 44,
   "id": "7c9bdb68",
   "metadata": {},
   "outputs": [
    {
     "data": {
      "text/plain": [
       "<matplotlib.image.AxesImage at 0x1fa84e5ac88>"
      ]
     },
     "execution_count": 44,
     "metadata": {},
     "output_type": "execute_result"
    },
    {
     "data": {
      "image/png": "[encoded data removed]",
      "text/plain": [
       "<Figure size 640x480 with 1 Axes>"
      ]
     },
     "metadata": {},
     "output_type": "display_data"
    }
   ],
   "source": [
    "from PIL import Image\n",
    "import matplotlib.pyplot as plt\n",
    "\n",
    "image = Image.open('digit.png')\n",
    "plt.imshow(image)"
   ]
  },
  {
   "cell_type": "code",
   "execution_count": 48,
   "id": "7094d7c3",
   "metadata": {},
   "outputs": [
    {
     "name": "stdout",
     "output_type": "stream",
     "text": [
      "[3]\n"
     ]
    }
   ],
   "source": [
    "img = np.dot(np.array(image)[...,:3], [0.299, 0.587, 0.114])\n",
    "img = 255 - img\n",
    "\n",
    "r = model.predict(img.reshape(1, -1) / 255.0)\n",
    "print(r)"
   ]
  }
 ],
 "metadata": {
  "kernelspec": {
   "display_name": "Python 3 (ipykernel)",
   "language": "python",
   "name": "python3"
  },
  "language_info": {
   "codemirror_mode": {
    "name": "ipython",
    "version": 3
   },
   "file_extension": ".py",
   "mimetype": "text/x-python",
   "name": "python",
   "nbconvert_exporter": "python",
   "pygments_lexer": "ipython3",
   "version": "3.7.16"
  }
 },
 "nbformat": 4,
 "nbformat_minor": 5
}
